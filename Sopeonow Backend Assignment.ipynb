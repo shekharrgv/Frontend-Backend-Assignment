{
 "cells": [
  {
   "cell_type": "code",
   "execution_count": 1,
   "id": "6909df01",
   "metadata": {},
   "outputs": [],
   "source": [
    "import pandas as pd"
   ]
  },
  {
   "cell_type": "code",
   "execution_count": 3,
   "id": "9c921da2",
   "metadata": {},
   "outputs": [],
   "source": [
    "df = pd.read_csv(r\"C:\\Users\\hp\\Desktop\\tools\\Assignement\\dataset.csv\") "
   ]
  },
  {
   "cell_type": "code",
   "execution_count": 15,
   "id": "7ee72163",
   "metadata": {},
   "outputs": [
    {
     "name": "stdout",
     "output_type": "stream",
     "text": [
      "NURSENAME\n",
      "Daycare Endoscopy                32\n",
      "Daycare Haemato & Onco Adult     35\n",
      "Daycare Haemato & Onco Paed      11\n",
      "Daycare Imaging                  10\n",
      "Daycare Surgery                  50\n",
      "NT Admission Lounge              36\n",
      "NT ICU                           16\n",
      "NT Labour Room                   42\n",
      "NT NICU                           8\n",
      "NT Nursery                      118\n",
      "NT Paed HDU                      16\n",
      "NT Ward 2D                      110\n",
      "NT Ward 3D                       78\n",
      "NT Ward 4D                       76\n",
      "NT Ward 5C                       50\n",
      "NT Ward 5D                       41\n",
      "ST CCU                           11\n",
      "ST HDU                            6\n",
      "ST ICU                            9\n",
      "ST Ward 2A                       30\n",
      "ST Ward 3A                       31\n",
      "ST Ward 3B                       45\n",
      "ST Ward 4A                       45\n",
      "ST Ward 4B                       33\n",
      "ST Ward 5A                       35\n",
      "ST Ward 5B                       26\n",
      "Name: BEDKEY, dtype: int64\n",
      "sum= 1000\n"
     ]
    }
   ],
   "source": [
    "beds_per_ward = df.groupby('NURSENAME')['BEDKEY'].count()\n",
    "print(beds_per_ward)\n",
    "print(\"sum=\",sum(beds_per_ward))"
   ]
  },
  {
   "cell_type": "code",
   "execution_count": 4,
   "id": "320c1943",
   "metadata": {},
   "outputs": [
    {
     "data": {
      "text/html": [
       "<div>\n",
       "<style scoped>\n",
       "    .dataframe tbody tr th:only-of-type {\n",
       "        vertical-align: middle;\n",
       "    }\n",
       "\n",
       "    .dataframe tbody tr th {\n",
       "        vertical-align: top;\n",
       "    }\n",
       "\n",
       "    .dataframe thead th {\n",
       "        text-align: right;\n",
       "    }\n",
       "</style>\n",
       "<table border=\"1\" class=\"dataframe\">\n",
       "  <thead>\n",
       "    <tr style=\"text-align: right;\">\n",
       "      <th></th>\n",
       "      <th>BUILDINGKEY</th>\n",
       "      <th>FLOORKEY</th>\n",
       "      <th>FLOORNAME</th>\n",
       "      <th>NURSEKEY</th>\n",
       "      <th>NURSENAME</th>\n",
       "      <th>ROOMKEY</th>\n",
       "      <th>ROOMNAME</th>\n",
       "      <th>BEDKEY</th>\n",
       "      <th>BEDNAME</th>\n",
       "      <th>BEDSTATUS</th>\n",
       "    </tr>\n",
       "  </thead>\n",
       "  <tbody>\n",
       "    <tr>\n",
       "      <th>0</th>\n",
       "      <td>5.0</td>\n",
       "      <td>9.0</td>\n",
       "      <td>First Floor NT</td>\n",
       "      <td>00:00.0</td>\n",
       "      <td>Daycare Surgery</td>\n",
       "      <td>33.0</td>\n",
       "      <td>Daycare NT (Day Care)</td>\n",
       "      <td>34.0</td>\n",
       "      <td>101-1</td>\n",
       "      <td>Occupied Discharge</td>\n",
       "    </tr>\n",
       "    <tr>\n",
       "      <th>1</th>\n",
       "      <td>5.0</td>\n",
       "      <td>9.0</td>\n",
       "      <td>First Floor NT</td>\n",
       "      <td>00:00.0</td>\n",
       "      <td>Daycare Surgery</td>\n",
       "      <td>33.0</td>\n",
       "      <td>Daycare NT (Day Care)</td>\n",
       "      <td>35.0</td>\n",
       "      <td>101-1P</td>\n",
       "      <td>Occupied Discharge</td>\n",
       "    </tr>\n",
       "    <tr>\n",
       "      <th>2</th>\n",
       "      <td>5.0</td>\n",
       "      <td>9.0</td>\n",
       "      <td>First Floor NT</td>\n",
       "      <td>00:00.0</td>\n",
       "      <td>Daycare Surgery</td>\n",
       "      <td>33.0</td>\n",
       "      <td>Daycare NT (Day Care)</td>\n",
       "      <td>36.0</td>\n",
       "      <td>101-2</td>\n",
       "      <td>Vacant Dirty</td>\n",
       "    </tr>\n",
       "    <tr>\n",
       "      <th>3</th>\n",
       "      <td>5.0</td>\n",
       "      <td>9.0</td>\n",
       "      <td>First Floor NT</td>\n",
       "      <td>00:00.0</td>\n",
       "      <td>Daycare Surgery</td>\n",
       "      <td>33.0</td>\n",
       "      <td>Daycare NT (Day Care)</td>\n",
       "      <td>37.0</td>\n",
       "      <td>101-2P</td>\n",
       "      <td>Vacant Dirty</td>\n",
       "    </tr>\n",
       "    <tr>\n",
       "      <th>4</th>\n",
       "      <td>5.0</td>\n",
       "      <td>9.0</td>\n",
       "      <td>First Floor NT</td>\n",
       "      <td>00:00.0</td>\n",
       "      <td>Daycare Surgery</td>\n",
       "      <td>33.0</td>\n",
       "      <td>Daycare NT (Day Care)</td>\n",
       "      <td>38.0</td>\n",
       "      <td>101-3</td>\n",
       "      <td>Vacant Dirty</td>\n",
       "    </tr>\n",
       "  </tbody>\n",
       "</table>\n",
       "</div>"
      ],
      "text/plain": [
       "   BUILDINGKEY  FLOORKEY       FLOORNAME NURSEKEY        NURSENAME  ROOMKEY  \\\n",
       "0          5.0       9.0  First Floor NT  00:00.0  Daycare Surgery     33.0   \n",
       "1          5.0       9.0  First Floor NT  00:00.0  Daycare Surgery     33.0   \n",
       "2          5.0       9.0  First Floor NT  00:00.0  Daycare Surgery     33.0   \n",
       "3          5.0       9.0  First Floor NT  00:00.0  Daycare Surgery     33.0   \n",
       "4          5.0       9.0  First Floor NT  00:00.0  Daycare Surgery     33.0   \n",
       "\n",
       "                ROOMNAME  BEDKEY BEDNAME           BEDSTATUS  \n",
       "0  Daycare NT (Day Care)    34.0   101-1  Occupied Discharge  \n",
       "1  Daycare NT (Day Care)    35.0  101-1P  Occupied Discharge  \n",
       "2  Daycare NT (Day Care)    36.0   101-2        Vacant Dirty  \n",
       "3  Daycare NT (Day Care)    37.0  101-2P        Vacant Dirty  \n",
       "4  Daycare NT (Day Care)    38.0   101-3        Vacant Dirty  "
      ]
     },
     "execution_count": 4,
     "metadata": {},
     "output_type": "execute_result"
    }
   ],
   "source": [
    "df.head()"
   ]
  },
  {
   "cell_type": "code",
   "execution_count": 32,
   "id": "41945324",
   "metadata": {},
   "outputs": [
    {
     "data": {
      "text/html": [
       "<div>\n",
       "<style scoped>\n",
       "    .dataframe tbody tr th:only-of-type {\n",
       "        vertical-align: middle;\n",
       "    }\n",
       "\n",
       "    .dataframe tbody tr th {\n",
       "        vertical-align: top;\n",
       "    }\n",
       "\n",
       "    .dataframe thead th {\n",
       "        text-align: right;\n",
       "    }\n",
       "</style>\n",
       "<table border=\"1\" class=\"dataframe\">\n",
       "  <thead>\n",
       "    <tr style=\"text-align: right;\">\n",
       "      <th></th>\n",
       "      <th>BUILDINGKEY</th>\n",
       "      <th>FLOORKEY</th>\n",
       "      <th>ROOMKEY</th>\n",
       "      <th>BEDKEY</th>\n",
       "    </tr>\n",
       "  </thead>\n",
       "  <tbody>\n",
       "    <tr>\n",
       "      <th>count</th>\n",
       "      <td>1000.000000</td>\n",
       "      <td>1000.000000</td>\n",
       "      <td>1000.000000</td>\n",
       "      <td>1000.000000</td>\n",
       "    </tr>\n",
       "    <tr>\n",
       "      <th>mean</th>\n",
       "      <td>5.423000</td>\n",
       "      <td>185.388000</td>\n",
       "      <td>581.357000</td>\n",
       "      <td>709.805000</td>\n",
       "    </tr>\n",
       "    <tr>\n",
       "      <th>std</th>\n",
       "      <td>0.660687</td>\n",
       "      <td>243.942627</td>\n",
       "      <td>499.595474</td>\n",
       "      <td>560.236518</td>\n",
       "    </tr>\n",
       "    <tr>\n",
       "      <th>min</th>\n",
       "      <td>5.000000</td>\n",
       "      <td>9.000000</td>\n",
       "      <td>33.000000</td>\n",
       "      <td>34.000000</td>\n",
       "    </tr>\n",
       "    <tr>\n",
       "      <th>25%</th>\n",
       "      <td>5.000000</td>\n",
       "      <td>11.000000</td>\n",
       "      <td>172.000000</td>\n",
       "      <td>212.750000</td>\n",
       "    </tr>\n",
       "    <tr>\n",
       "      <th>50%</th>\n",
       "      <td>5.000000</td>\n",
       "      <td>12.000000</td>\n",
       "      <td>380.000000</td>\n",
       "      <td>544.500000</td>\n",
       "    </tr>\n",
       "    <tr>\n",
       "      <th>75%</th>\n",
       "      <td>6.000000</td>\n",
       "      <td>459.000000</td>\n",
       "      <td>742.000000</td>\n",
       "      <td>1262.250000</td>\n",
       "    </tr>\n",
       "    <tr>\n",
       "      <th>max</th>\n",
       "      <td>8.000000</td>\n",
       "      <td>880.000000</td>\n",
       "      <td>1653.000000</td>\n",
       "      <td>1775.000000</td>\n",
       "    </tr>\n",
       "  </tbody>\n",
       "</table>\n",
       "</div>"
      ],
      "text/plain": [
       "       BUILDINGKEY     FLOORKEY      ROOMKEY       BEDKEY\n",
       "count  1000.000000  1000.000000  1000.000000  1000.000000\n",
       "mean      5.423000   185.388000   581.357000   709.805000\n",
       "std       0.660687   243.942627   499.595474   560.236518\n",
       "min       5.000000     9.000000    33.000000    34.000000\n",
       "25%       5.000000    11.000000   172.000000   212.750000\n",
       "50%       5.000000    12.000000   380.000000   544.500000\n",
       "75%       6.000000   459.000000   742.000000  1262.250000\n",
       "max       8.000000   880.000000  1653.000000  1775.000000"
      ]
     },
     "execution_count": 32,
     "metadata": {},
     "output_type": "execute_result"
    }
   ],
   "source": [
    "df.describe()"
   ]
  },
  {
   "cell_type": "code",
   "execution_count": 33,
   "id": "b42c88dc",
   "metadata": {},
   "outputs": [
    {
     "name": "stdout",
     "output_type": "stream",
     "text": [
      "ROOMNAME\n",
      "CCU ST (ICU/CCU)                                                   11\n",
      "Daycare NT (Day Care)                                              50\n",
      "Haematology & Oncology Daycare Adult (Day Care Chemo)              35\n",
      "Haematology & Oncology Daycare Paeds (Day Care Chemo (Private))    11\n",
      "ICU NT  (ICU/CCU)                                                  16\n",
      "                                                                   ..\n",
      "Room 585 (Double Bed)                                               2\n",
      "Room 586 (Double Bed)                                               2\n",
      "Room 587 (Double Bed)                                               2\n",
      "Room 588 (Four Bedded)                                              2\n",
      "Room G03 (Day Care)                                                10\n",
      "Name: BEDKEY, Length: 275, dtype: int64\n",
      "sum = 1000\n"
     ]
    }
   ],
   "source": [
    "# Extract the room name without the number part\n",
    "df['ROOMNAME'] = df['ROOMNAME'].str.replace(r' Room \\d+', '', regex=True)\n",
    "\n",
    "beds_per_room = df.groupby('ROOMNAME')['BEDKEY'].count()\n",
    "print(beds_per_room)\n",
    "print(\"sum =\",sum(beds_per_room))"
   ]
  },
  {
   "cell_type": "code",
   "execution_count": 20,
   "id": "c78e3943",
   "metadata": {},
   "outputs": [
    {
     "name": "stdout",
     "output_type": "stream",
     "text": [
      "BEDSTATUS\n",
      "Available             535\n",
      "Blocked                 2\n",
      "Occupied Discharge     59\n",
      "Occupied(Female)      104\n",
      "Occupied(Male)         90\n",
      "Vacant Dirty          210\n",
      "Name: BEDKEY, dtype: int64\n",
      "Sum =  1000\n"
     ]
    }
   ],
   "source": [
    "beds_per_status = df.groupby('BEDSTATUS')['BEDKEY'].count()\n",
    "print(beds_per_status)\n",
    "print(\"Sum = \", sum(beds_per_status))"
   ]
  },
  {
   "cell_type": "code",
   "execution_count": 24,
   "id": "ec52d407",
   "metadata": {},
   "outputs": [
    {
     "name": "stdout",
     "output_type": "stream",
     "text": [
      "253\n",
      "Total beds: 1000\n",
      "Occupied beds: 253\n",
      "Occupancy percentage: 25.30%\n"
     ]
    }
   ],
   "source": [
    "\n",
    "occupied_statuses = ['Occupied Discharge', 'Occupied(Female)', 'Occupied(Male)']\n",
    "occupied_df = df[df['BEDSTATUS'].isin(occupied_statuses)]\n",
    "\n",
    "# Calculate the total number of beds and the number of occupied beds\n",
    "total_bed_count = len(df.dropna(subset=['BEDSTATUS']))\n",
    "occupied_bed_count = len(occupied_df.dropna(subset=['BEDSTATUS']))\n",
    "\n",
    "# Calculate the occupancy percentage\n",
    "occupancy_percentage = (occupied_bed_count / total_bed_count) * 100\n",
    "\n",
    "print(f\"Total beds: {total_bed_count}\")\n",
    "print(f\"Occupied beds: {occupied_bed_count}\")\n",
    "print(f\"Occupancy percentage: {occupancy_percentage:.2f}%\")"
   ]
  },
  {
   "cell_type": "code",
   "execution_count": 26,
   "id": "f63ace6a",
   "metadata": {},
   "outputs": [
    {
     "name": "stdout",
     "output_type": "stream",
     "text": [
      "Occupancy for each ward:\n",
      "NURSENAME\n",
      "Daycare Endoscopy               18.750000\n",
      "Daycare Haemato & Onco Adult     5.714286\n",
      "Daycare Surgery                  8.000000\n",
      "NT ICU                          62.500000\n",
      "NT NICU                         50.000000\n",
      "NT Nursery                       1.694915\n",
      "NT Ward 2D                      29.090909\n",
      "NT Ward 3D                      53.846154\n",
      "NT Ward 4D                      15.789474\n",
      "NT Ward 5D                      68.292683\n",
      "ST CCU                          63.636364\n",
      "ST HDU                          66.666667\n",
      "ST ICU                          55.555556\n",
      "ST Ward 2A                      56.666667\n",
      "ST Ward 3A                      87.096774\n",
      "ST Ward 3B                      11.111111\n",
      "ST Ward 4A                      26.666667\n",
      "ST Ward 4B                       9.090909\n",
      "ST Ward 5A                      57.142857\n",
      "ST Ward 5B                      42.307692\n",
      "Name: BEDKEY, dtype: float64\n"
     ]
    }
   ],
   "source": [
    "\n",
    "occupied_statuses = ['Occupied Discharge', 'Occupied(Female)', 'Occupied(Male)']\n",
    "occupied_df = df[df['BEDSTATUS'].isin(occupied_statuses)]\n",
    "\n",
    "beds_per_ward = occupied_df.groupby('NURSENAME')['BEDKEY'].count()\n",
    "\n",
    "total_beds_per_ward = df.groupby('NURSENAME')['BEDKEY'].count()\n",
    "\n",
    "occupied_beds_per_ward = occupied_df.groupby('NURSENAME')['BEDKEY'].count()\n",
    "\n",
    "occupancy_percentage_per_ward = (occupied_beds_per_ward / total_beds_per_ward) * 100\n",
    "\n",
    "occupancy_percentage_per_ward = occupancy_percentage_per_ward.dropna()\n",
    "\n",
    "# Display the results\n",
    "print(\"Occupancy for each ward:\")\n",
    "print(occupancy_percentage_per_ward)"
   ]
  },
  {
   "cell_type": "code",
   "execution_count": 29,
   "id": "32245496",
   "metadata": {},
   "outputs": [
    {
     "name": "stdout",
     "output_type": "stream",
     "text": [
      "Occupancy for each room:\n",
      "ROOMNAME\n",
      "CCU ST (ICU/CCU)                                          63.636364\n",
      "Daycare NT (Day Care)                                      8.000000\n",
      "Haematology & Oncology Daycare Adult (Day Care Chemo)      5.714286\n",
      "ICU NT  (ICU/CCU)                                         62.500000\n",
      "ICU ST 1 (ICU/CCU)                                        55.555556\n",
      "                                                            ...    \n",
      "Room 582 (Single Bed)                                    100.000000\n",
      "Room 584 (Four Bedded)                                    50.000000\n",
      "Room 585 (Double Bed)                                     50.000000\n",
      "Room 586 (Double Bed)                                     50.000000\n",
      "Room 587 (Double Bed)                                     50.000000\n",
      "Name: BEDKEY, Length: 145, dtype: float64\n"
     ]
    }
   ],
   "source": [
    "\n",
    "\n",
    "occupied_statuses = ['Occupied Discharge', 'Occupied(Female)', 'Occupied(Male)']\n",
    "occupied_df = df[df['BEDSTATUS'].isin(occupied_statuses)].copy()\n",
    "\n",
    "occupied_df.loc[:, 'ROOMNAME'] = occupied_df['ROOMNAME'].str.replace(r' Room \\d+', '', regex=True)\n",
    "\n",
    "beds_per_room = occupied_df.groupby('ROOMNAME')['BEDKEY'].count()\n",
    "\n",
    "total_beds_per_room = df.groupby('ROOMNAME')['BEDKEY'].count()\n",
    "\n",
    "occupied_beds_per_room = occupied_df.groupby('ROOMNAME')['BEDKEY'].count()\n",
    "\n",
    "occupancy_percentage_per_room = (occupied_beds_per_room / total_beds_per_room) * 100\n",
    "\n",
    "occupancy_percentage_per_room = occupancy_percentage_per_room.dropna()\n",
    "\n",
    "print(\"Occupancy for each room:\")\n",
    "print(occupancy_percentage_per_room)"
   ]
  },
  {
   "cell_type": "code",
   "execution_count": 30,
   "id": "d04da0bf",
   "metadata": {},
   "outputs": [
    {
     "name": "stdout",
     "output_type": "stream",
     "text": [
      "NURSENAME                     BEDSTATUS         \n",
      "Daycare Endoscopy             Available             16\n",
      "                              Occupied Discharge     6\n",
      "                              Vacant Dirty          10\n",
      "Daycare Haemato & Onco Adult  Available              3\n",
      "                              Occupied Discharge     2\n",
      "                                                    ..\n",
      "ST Ward 5A                    Vacant Dirty           7\n",
      "ST Ward 5B                    Available              8\n",
      "                              Occupied(Female)       4\n",
      "                              Occupied(Male)         7\n",
      "                              Vacant Dirty           7\n",
      "Name: BEDKEY, Length: 88, dtype: int64\n"
     ]
    }
   ],
   "source": [
    "beds_per_status_per_ward = df.groupby(['NURSENAME', 'BEDSTATUS'])['BEDKEY'].count()\n",
    "print(beds_per_status_per_ward)"
   ]
  },
  {
   "cell_type": "code",
   "execution_count": 31,
   "id": "88596ff1",
   "metadata": {},
   "outputs": [
    {
     "name": "stdout",
     "output_type": "stream",
     "text": [
      "ROOMNAME                BEDSTATUS         \n",
      "CCU ST (ICU/CCU)        Available              4\n",
      "                        Occupied(Female)       1\n",
      "                        Occupied(Male)         6\n",
      "Daycare NT (Day Care)   Available             12\n",
      "                        Occupied Discharge     4\n",
      "                                              ..\n",
      "Room 587 (Double Bed)   Occupied(Female)       1\n",
      "                        Vacant Dirty           1\n",
      "Room 588 (Four Bedded)  Available              2\n",
      "Room G03 (Day Care)     Available              4\n",
      "                        Vacant Dirty           6\n",
      "Name: BEDKEY, Length: 370, dtype: int64\n"
     ]
    }
   ],
   "source": [
    "beds_per_status_per_room = df.groupby(['ROOMNAME', 'BEDSTATUS'])['BEDKEY'].count()\n",
    "print(beds_per_status_per_room)"
   ]
  },
  {
   "cell_type": "code",
   "execution_count": null,
   "id": "e8239a3d",
   "metadata": {},
   "outputs": [],
   "source": []
  }
 ],
 "metadata": {
  "kernelspec": {
   "display_name": "Python 3 (ipykernel)",
   "language": "python",
   "name": "python3"
  },
  "language_info": {
   "codemirror_mode": {
    "name": "ipython",
    "version": 3
   },
   "file_extension": ".py",
   "mimetype": "text/x-python",
   "name": "python",
   "nbconvert_exporter": "python",
   "pygments_lexer": "ipython3",
   "version": "3.11.3"
  }
 },
 "nbformat": 4,
 "nbformat_minor": 5
}
